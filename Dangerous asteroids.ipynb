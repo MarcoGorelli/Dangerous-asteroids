{
 "cells": [
  {
   "cell_type": "markdown",
   "metadata": {},
   "source": [
    "# Dangerous asteroids!"
   ]
  },
  {
   "cell_type": "code",
   "execution_count": null,
   "metadata": {},
   "outputs": [],
   "source": [
    "%load_ext lab_black\n",
    "\n",
    "import requests\n",
    "import json\n",
    "import pandas as pd\n",
    "import cufflinks\n",
    "import datetime as dt\n",
    "from tqdm import tqdm_notebook as tqdm\n",
    "import numpy as np\n",
    "import pymc3 as pm\n",
    "import theano.tensor as tt\n",
    "\n",
    "cufflinks.go_offline(False)"
   ]
  },
  {
   "cell_type": "code",
   "execution_count": null,
   "metadata": {},
   "outputs": [],
   "source": [
    "datas = {}\n",
    "\n",
    "for i in tqdm(\n",
    "    pd.date_range(\n",
    "        start=dt.date.today() - dt.timedelta(days=200),\n",
    "        end=dt.date.today() - dt.timedelta(days=1),\n",
    "        freq=\"W\",\n",
    "    )\n",
    "):\n",
    "    datas.update(\n",
    "        json.loads(\n",
    "            requests.get(\n",
    "                \"https://api.nasa.gov/neo/rest/v1/feed\",\n",
    "                {\"start_date\": str(i)[:10], \"api_key\": \"DEMO_KEY\"},\n",
    "            ).content\n",
    "        )[\"near_earth_objects\"]\n",
    "    )"
   ]
  },
  {
   "cell_type": "code",
   "execution_count": null,
   "metadata": {},
   "outputs": [],
   "source": [
    "df = pd.DataFrame(\n",
    "    {\n",
    "        key: {\n",
    "            \"dangerous\": len(\n",
    "                [_ for i in value if i[\"is_potentially_hazardous_asteroid\"]]\n",
    "            ),\n",
    "            \"total\": len(value),\n",
    "        }\n",
    "        for (key, value) in datas.items()\n",
    "    }\n",
    ").T\n",
    "df.index = pd.to_datetime(df.index)\n",
    "df.sort_index(inplace=True)"
   ]
  },
  {
   "cell_type": "code",
   "execution_count": null,
   "metadata": {},
   "outputs": [],
   "source": [
    "df[[\"dangerous\"]].iplot(title=\"Number of asteroids coming close to Earth, by day\")"
   ]
  },
  {
   "cell_type": "code",
   "execution_count": null,
   "metadata": {},
   "outputs": [],
   "source": [
    "with pm.Model() as model:\n",
    "    alpha = 1.0 / df.dangerous.mean()\n",
    "    lambda_ = pm.Exponential(\"lambda\", alpha)"
   ]
  },
  {
   "cell_type": "code",
   "execution_count": null,
   "metadata": {},
   "outputs": [],
   "source": [
    "with model:\n",
    "    observation = pm.Poisson(\"obs\", lambda_, observed=df.dangerous)"
   ]
  },
  {
   "cell_type": "code",
   "execution_count": null,
   "metadata": {},
   "outputs": [],
   "source": [
    "with model:\n",
    "    step = pm.Metropolis()\n",
    "    trace = pm.sample(10000, tune=5000, step=step)"
   ]
  },
  {
   "cell_type": "code",
   "execution_count": null,
   "metadata": {},
   "outputs": [],
   "source": [
    "x = np.linspace(trace[\"lambda\"].min(), trace[\"lambda\"].max(), 1000)\n",
    "\n",
    "pd.Series(kde(trace[\"lambda\"]).evaluate(x), index=x).iplot(\n",
    "    title=\"KDE plot of parameter lambda\"\n",
    ")"
   ]
  },
  {
   "cell_type": "markdown",
   "metadata": {},
   "source": [
    "## Probability of observing 5 or more dangerous asteroids in a day? Less  than 1%!"
   ]
  },
  {
   "cell_type": "code",
   "execution_count": null,
   "metadata": {},
   "outputs": [],
   "source": [
    "1 - poisson(trace[\"lambda\"].mean()).cdf(4)"
   ]
  },
  {
   "cell_type": "code",
   "execution_count": null,
   "metadata": {},
   "outputs": [],
   "source": []
  },
  {
   "cell_type": "code",
   "execution_count": null,
   "metadata": {},
   "outputs": [],
   "source": []
  }
 ],
 "metadata": {
  "kernelspec": {
   "display_name": "Python 3",
   "language": "python",
   "name": "python3"
  },
  "language_info": {
   "codemirror_mode": {
    "name": "ipython",
    "version": 3
   },
   "file_extension": ".py",
   "mimetype": "text/x-python",
   "name": "python",
   "nbconvert_exporter": "python",
   "pygments_lexer": "ipython3",
   "version": "3.7.3"
  }
 },
 "nbformat": 4,
 "nbformat_minor": 2
}
